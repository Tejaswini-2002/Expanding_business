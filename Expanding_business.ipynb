{
 "cells": [
  {
   "cell_type": "markdown",
   "id": "1ef9a57e",
   "metadata": {},
   "source": [
    "## Linear Regression"
   ]
  },
  {
   "cell_type": "markdown",
   "id": "5e3a2e20",
   "metadata": {},
   "source": [
    "-numpy is the fundamental package for working with matrices in Python.              \n",
    "-matplotlib is a famous library to plot graphs in Python."
   ]
  },
  {
   "cell_type": "code",
   "execution_count": 16,
   "id": "a4899737",
   "metadata": {},
   "outputs": [],
   "source": [
    "import numpy as np\n",
    "import matplotlib.pyplot as plt\n",
    "import math\n",
    "import copy"
   ]
  },
  {
   "cell_type": "markdown",
   "id": "e8732218",
   "metadata": {},
   "source": [
    "- `x_train` is the population of a city\n",
    "- `y_train` is the profit of a restaurant in that city. A negative value for profit indicates a loss.   \n",
    "- Both `X_train` and `y_train` are numpy arrays."
   ]
  },
  {
   "cell_type": "code",
   "execution_count": 17,
   "id": "25e6be24",
   "metadata": {},
   "outputs": [],
   "source": [
    "# load the dataset\n",
    "x_train = np.array([6.1101, 5.5277,  8.5186,  7.0032,  5.8598,  8.3829,  7.4764,  8.5781,  6.4862,\n",
    "                    5.0546,  5.7107, 14.164,   5.734, 8.4084,  5.6407,  5.3794,  6.3654,  5.1301,\n",
    "                    6.4296, 7.0708,  6.1891, 20.27, 5.4901,  6.3261,  5.5649, 18.945,  12.828,\n",
    "                    10.957,  13.176,  22.203, 5.2524, 6.5894,  9.2482,  5.8918,  8.2111,  7.9334,\n",
    "                    8.0959,  5.6063, 12.836,  6.3534,  5.4069,  6.8825, 11.708,   5.7737,  7.8247,\n",
    "                    7.0931,  5.0702,  5.8014, 11.7,   5.5416,  7.5402,  5.3077,  7.423, 7.6031,\n",
    "                    6.3328,  6.3589,  6.2742,  5.6397,  9.3102,  9.4536,  8.8254,  5.1793, 21.279,\n",
    "                    14.908,  18.959,   7.2182,  8.2951, 10.236,   5.4994, 20.341,  10.136,   7.3345,\n",
    "                    6.0062,  7.2259,  5.0269,  6.5479, 7.5386,  5.0365, 10.274,   5.1077,  5.7292,\n",
    "                    5.1884,  6.3557,  9.7687, 6.5159,  8.5172, 9.1802,  6.002,   5.5204,  5.0594,\n",
    "                    5.7077,  7.6366,  5.8707, 5.3054, 8.2934, 13.394,   5.4369])\n",
    "\n",
    "y_train = np.array([17.592,    9.1302,  13.662,   11.854,    6.8233,  11.886,    4.3483,  12.,\n",
    "                    6.5987,   3.8166,   3.2522,  15.505,    3.1551,   7.2258,   0.71618,  3.5129,\n",
    "                    5.3048,   0.56077,  3.6518,   5.3893,   3.1386,  21.767,    4.263,    5.1875,\n",
    "                    3.0825,  22.638,   13.501,    7.0467,  14.692,   24.147,   -1.22,     5.9966,\n",
    "                    12.134,   1.8495,   6.5426,   4.5623,   4.1164,   3.3928,  10.117,    5.4974,\n",
    "                    0.55657,  3.9115,   5.3854,   2.4406,   6.7318,   1.0463,   5.1337,   1.844,\n",
    "                    8.0043,  1.0179,  6.7504,   1.8396,   4.2885,   4.9981,   1.4233,  -1.4211,\n",
    "                    2.4756,   4.6042,   3.9624,   5.4141,   5.1694,  -0.74279, 17.929,  12.054,\n",
    "                    17.054,    4.8852,   5.7442,   7.7754,   1.0173,  20.992,    6.6799,   4.0259,\n",
    "                    1.2784,   3.3411,  -2.6807,   0.29678,  3.8845,   5.7014,   6.7526,   2.0576,\n",
    "                    0.47953,  0.20421,  0.67861,  7.5435,   5.3436,   4.2415,   6.7981,   0.92695,\n",
    "                    0.152,    2.8214,   1.8451,   4.2959,   7.2029,   1.9869,   0.14454,  9.0551,\n",
    "                    0.61705])\n"
   ]
  },
  {
   "cell_type": "markdown",
   "id": "460485dc",
   "metadata": {},
   "source": [
    "The code below prints the variable `x_train` and the type of the variable."
   ]
  },
  {
   "cell_type": "code",
   "execution_count": 18,
   "id": "c9c828b5",
   "metadata": {},
   "outputs": [
    {
     "name": "stdout",
     "output_type": "stream",
     "text": [
      "Type of x_train: <class 'numpy.ndarray'>\n",
      "First five elements of x_train are:\n",
      " [6.1101 5.5277 8.5186 7.0032 5.8598]\n"
     ]
    }
   ],
   "source": [
    "# print x_train\n",
    "print(\"Type of x_train:\",type(x_train))\n",
    "print(\"First five elements of x_train are:\\n\", x_train[:5]) "
   ]
  },
  {
   "cell_type": "markdown",
   "id": "06f6dd2e",
   "metadata": {},
   "source": [
    "`x_train` is a numpy array that contains decimal values that are all greater than zero.\n",
    "- These values represent the city population times 10,000\n",
    "- For example, 6.1101 means that the population for that city is 61,101\n",
    "  \n",
    "Now, let's print `y_train`"
   ]
  },
  {
   "cell_type": "code",
   "execution_count": 19,
   "id": "7d819a61",
   "metadata": {},
   "outputs": [
    {
     "name": "stdout",
     "output_type": "stream",
     "text": [
      "Type of y_train: <class 'numpy.ndarray'>\n",
      "First five elements of y_train are:\n",
      " [17.592   9.1302 13.662  11.854   6.8233]\n"
     ]
    }
   ],
   "source": [
    "# print y_train\n",
    "print(\"Type of y_train:\",type(y_train))\n",
    "print(\"First five elements of y_train are:\\n\", y_train[:5])  "
   ]
  },
  {
   "cell_type": "markdown",
   "id": "6dc82383",
   "metadata": {},
   "source": [
    "Similarly, `y_train` is a numpy array that has decimal values, some negative, some positive.\n",
    "- These represents restaurant's average monthly profits in each city, in units of \\$10,000.\n",
    "  - For example, 17.592 represents \\$175,920 in average monthly profits for that city.\n",
    "  - -2.6807 represents -\\$26,807 in average monthly loss for that city."
   ]
  },
  {
   "cell_type": "markdown",
   "id": "c6698da7",
   "metadata": {},
   "source": [
    "#### Visualize data\n",
    "\n",
    "It is often useful to understand the data by visualizing it. \n",
    "- For this dataset has only two properties to plot (profit and population). "
   ]
  },
  {
   "cell_type": "code",
   "execution_count": 20,
   "id": "6f3c58fb",
   "metadata": {},
   "outputs": [
    {
     "data": {
      "image/png": "[encoded data removed]",
      "text/plain": [
       "<Figure size 432x288 with 1 Axes>"
      ]
     },
     "metadata": {
      "needs_background": "light"
     },
     "output_type": "display_data"
    }
   ],
   "source": [
    "# Create a scatter plot of the data. To change the markers to red \"x\",\n",
    "# we used the 'marker' and 'c' parameters\n",
    "plt.scatter(x_train, y_train, marker='x', c='r') \n",
    "\n",
    "# Set the title\n",
    "plt.title(\"Profits vs. Population per city\")\n",
    "# Set the y-axis label\n",
    "plt.ylabel('Profit in $10,000')\n",
    "# Set the x-axis label\n",
    "plt.xlabel('Population of City in 10,000s')\n",
    "plt.show()"
   ]
  },
  {
   "cell_type": "markdown",
   "id": "15a57310",
   "metadata": {},
   "source": [
    "## Linear regression\n",
    "\n",
    "Fit the linear regression parameters $(w,b)$ to dataset.\n",
    "- The model function for linear regression, which is a function that maps from `x` (city population) to `y` (monthly profit for that city) is represented as \n",
    "    $$f_{w,b}(x) = wx + b$$"
   ]
  },
  {
   "cell_type": "markdown",
   "id": "69442000",
   "metadata": {},
   "source": [
    "<a name=\"5\"></a>\n",
    "## Compute Cost\n",
    "\n",
    "Gradient descent involves repeated steps to adjust the value of parameter $(w,b)$ to gradually get a smaller and smaller cost $J(w,b)$.\n",
    "- At each step of gradient descent, it will be helpful to monitor the progress by computing the cost $J(w,b)$ as $(w,b)$ gets updated. \n",
    "- Implement a function to calculate $J(w,b)$ so as to check the progress of gradient descent implementation.\n",
    "\n",
    "#### Cost function\n",
    "For one variable, the cost function for linear regression $J(w,b)$ is defined as\n",
    "\n",
    "$$J(w,b) = \\frac{1}{2m} \\sum\\limits_{i = 0}^{m-1} (f_{w,b}(x^{(i)}) - y^{(i)})^2$$ \n",
    "\n",
    "- $f_{w,b}(x^{(i)})$ is the model's prediction of profit, as opposed to $y^{(i)}$, which is the actual profit that is recorded in the data.\n",
    "- $m$ is the number of training examples in the dataset\n",
    "\n",
    "#### Model prediction\n",
    "\n",
    "- For linear regression with one variable, the prediction of the model $f_{w,b}$ for an example $x^{(i)}$ is representented as:\n",
    "\n",
    "$$ f_{w,b}(x^{(i)}) = wx^{(i)} + b$$\n",
    "\n",
    "This is the equation for a line, with an intercept $b$ and a slope $w$"
   ]
  },
  {
   "cell_type": "markdown",
   "id": "3ff42943",
   "metadata": {},
   "source": [
    "* Iterate over the training examples, and for each example, compute:\n",
    "    * The prediction of the model for that example \n",
    "    $$\n",
    "    f_{wb}(x^{(i)}) =  wx^{(i)} + b \n",
    "    $$\n",
    "   \n",
    "    * The cost for that example  $$cost^{(i)} =  (f_{wb} - y^{(i)})^2$$\n",
    "    \n",
    "\n",
    "* Return the total cost over all examples\n",
    "$$J(\\mathbf{w},b) = \\frac{1}{2m} \\sum\\limits_{i = 0}^{m-1} cost^{(i)}$$\n",
    "  * Here, $m$ is the number of training examples and $\\sum$ is the summation operator\n"
   ]
  },
  {
   "cell_type": "code",
   "execution_count": 21,
   "id": "acc94907",
   "metadata": {},
   "outputs": [],
   "source": [
    "def compute_cost(x, y, w, b): \n",
    "    # number of training examples\n",
    "    m = x.shape[0] \n",
    "    \n",
    "    # You need to return this variable correctly\n",
    "    total_cost = 0\n",
    "    \n",
    "    for i in range(m):\n",
    "        f_wb_i = w*x[i] + b\n",
    "        cost_i = (f_wb_i - y[i])**2\n",
    "        total_cost = total_cost + cost_i\n",
    "    total_cost = total_cost/(2*m)\n",
    "    return total_cost"
   ]
  },
  {
   "cell_type": "code",
   "execution_count": 22,
   "id": "45cfa561",
   "metadata": {},
   "outputs": [
    {
     "name": "stdout",
     "output_type": "stream",
     "text": [
      "<class 'numpy.float64'>\n",
      "Cost at initial w: 75.203\n"
     ]
    }
   ],
   "source": [
    "# Compute cost with some initial values for paramaters w, b\n",
    "initial_w = 2\n",
    "initial_b = 1\n",
    "\n",
    "cost = compute_cost(x_train, y_train, initial_w, initial_b)\n",
    "print(type(cost))\n",
    "print(f'Cost at initial w: {cost:.3f}')"
   ]
  },
  {
   "cell_type": "markdown",
   "id": "784a0cf4",
   "metadata": {},
   "source": [
    "## Gradient descent \n",
    "The gradient descent algorithm is:\n",
    "\n",
    "$$\\begin{align*}& \\text{repeat until convergence:} \\; \\lbrace \\newline \\; & \\phantom {0000} b := b -  \\alpha \\frac{\\partial J(w,b)}{\\partial b} \\newline       \\; & \\phantom {0000} w := w -  \\alpha \\frac{\\partial J(w,b)}{\\partial w} \\tag{1}  \\; & \n",
    "\\newline & \\rbrace\\end{align*}$$\n",
    "\n",
    "where, parameters $w, b$ are both updated simultaniously and where  \n",
    "$$\n",
    "\\frac{\\partial J(w,b)}{\\partial b}  = \\frac{1}{m} \\sum\\limits_{i = 0}^{m-1} (f_{w,b}(x^{(i)}) - y^{(i)}) \\tag{2}\n",
    "$$\n",
    "$$\n",
    "\\frac{\\partial J(w,b)}{\\partial w}  = \\frac{1}{m} \\sum\\limits_{i = 0}^{m-1} (f_{w,b}(x^{(i)}) -y^{(i)})x^{(i)} \\tag{3}\n",
    "$$\n",
    "* m is the number of training examples in the dataset\n",
    "\n",
    "    \n",
    "*  $f_{w,b}(x^{(i)})$ is the model's prediction, while $y^{(i)}$, is the target value\n",
    "\n",
    "\n",
    "`compute_gradient` calculates $\\frac{\\partial J(w)}{\\partial w}$, $\\frac{\\partial J(w)}{\\partial b}$ "
   ]
  },
  {
   "cell_type": "code",
   "execution_count": 23,
   "id": "90793b94",
   "metadata": {},
   "outputs": [],
   "source": [
    "def compute_gradient(x, y, w, b): \n",
    "    # Number of training examples\n",
    "    m = x.shape[0]\n",
    "    \n",
    "    # You need to return the following variables correctly\n",
    "    dj_dw = 0\n",
    "    dj_db = 0\n",
    "    \n",
    "    for i in range(m):\n",
    "        f_wb_i = w*x[i] + b\n",
    "        dj_dw = dj_dw + (f_wb_i - y[i])*x[i]\n",
    "        dj_db = dj_db + (f_wb_i - y[i])\n",
    "        \n",
    "    dj_dw = dj_dw/m\n",
    "    dj_db = dj_db/m\n",
    "    return dj_dw, dj_db"
   ]
  },
  {
   "cell_type": "code",
   "execution_count": 24,
   "id": "6599c67b",
   "metadata": {},
   "outputs": [
    {
     "name": "stdout",
     "output_type": "stream",
     "text": [
      "Gradient at initial w, b (zeros): -65.32880995535055 -5.83913505154639\n"
     ]
    }
   ],
   "source": [
    "# Compute and display gradient with w initialized to zeroes\n",
    "initial_w = 0\n",
    "initial_b = 0\n",
    "\n",
    "tmp_dj_dw, tmp_dj_db = compute_gradient(x_train, y_train, initial_w, initial_b)\n",
    "print('Gradient at initial w, b (zeros):', tmp_dj_dw, tmp_dj_db)"
   ]
  },
  {
   "cell_type": "code",
   "execution_count": 25,
   "id": "1d9abcf9",
   "metadata": {},
   "outputs": [
    {
     "name": "stdout",
     "output_type": "stream",
     "text": [
      "Gradient at test w: -47.41609079755671 -4.007176907216494\n"
     ]
    }
   ],
   "source": [
    "test_w = 0.2\n",
    "test_b = 0.2\n",
    "tmp_dj_dw, tmp_dj_db = compute_gradient(x_train, y_train, test_w, test_b)\n",
    "print('Gradient at test w:', tmp_dj_dw, tmp_dj_db)"
   ]
  },
  {
   "cell_type": "code",
   "execution_count": 26,
   "id": "cb55cd58",
   "metadata": {},
   "outputs": [],
   "source": [
    "def gradient_descent(x, y, w_in, b_in, cost_function, gradient_function, alpha, num_iters): \n",
    "    # number of training examples\n",
    "    m = len(x)\n",
    "    \n",
    "    # An array to store cost J and w's at each iteration — primarily for graphing later\n",
    "    J_history = []\n",
    "    w_history = []\n",
    "    w = copy.deepcopy(w_in)  #avoid modifying global w within function\n",
    "    b = b_in\n",
    "    \n",
    "    for i in range(num_iters):\n",
    "\n",
    "        # Calculate the gradient and update the parameters\n",
    "        dj_dw, dj_db = gradient_function(x, y, w, b )  \n",
    "\n",
    "        # Update Parameters using w, b, alpha and gradient\n",
    "        w = w - alpha * dj_dw               \n",
    "        b = b - alpha * dj_db               \n",
    "\n",
    "        # Save cost J at each iteration\n",
    "        if i<100000:      # prevent resource exhaustion \n",
    "            cost =  cost_function(x, y, w, b)\n",
    "            J_history.append(cost)\n",
    "\n",
    "        # Print cost every at intervals 10 times or as many iterations if < 10\n",
    "        if i% math.ceil(num_iters/10) == 0:\n",
    "            w_history.append(w)\n",
    "            print(f\"Iteration {i:4}: Cost {float(J_history[-1]):8.2f}   \")\n",
    "        \n",
    "    return w, b, J_history, w_history #return w and J,w history for graphing"
   ]
  },
  {
   "cell_type": "code",
   "execution_count": 27,
   "id": "d6293cca",
   "metadata": {},
   "outputs": [
    {
     "name": "stdout",
     "output_type": "stream",
     "text": [
      "Iteration    0: Cost     6.74   \n",
      "Iteration  150: Cost     5.31   \n",
      "Iteration  300: Cost     4.96   \n",
      "Iteration  450: Cost     4.76   \n",
      "Iteration  600: Cost     4.64   \n",
      "Iteration  750: Cost     4.57   \n",
      "Iteration  900: Cost     4.53   \n",
      "Iteration 1050: Cost     4.51   \n",
      "Iteration 1200: Cost     4.50   \n",
      "Iteration 1350: Cost     4.49   \n",
      "w,b found by gradient descent: 1.166362474623772 -3.6302819888845543\n"
     ]
    }
   ],
   "source": [
    "# initialize fitting parameters. Recall that the shape of w is (n,)\n",
    "initial_w = 0.\n",
    "initial_b = 0.\n",
    "\n",
    "# some gradient descent settings\n",
    "iterations = 1500\n",
    "alpha = 0.01\n",
    "\n",
    "w,b,_,_ = gradient_descent(x_train ,y_train, initial_w, initial_b, \n",
    "                     compute_cost, compute_gradient, alpha, iterations)\n",
    "print(\"w,b found by gradient descent:\", w, b)"
   ]
  },
  {
   "cell_type": "code",
   "execution_count": 28,
   "id": "6b60408d",
   "metadata": {},
   "outputs": [],
   "source": [
    "m = x_train.shape[0]\n",
    "predicted = np.zeros(m)\n",
    "\n",
    "for i in range(m):\n",
    "    predicted[i] = w * x_train[i] + b"
   ]
  },
  {
   "cell_type": "code",
   "execution_count": 29,
   "id": "54ae9958",
   "metadata": {},
   "outputs": [
    {
     "data": {
      "text/plain": [
       "Text(0.5, 0, 'Population of City in 10,000s')"
      ]
     },
     "execution_count": 29,
     "metadata": {},
     "output_type": "execute_result"
    },
    {
     "data": {
      "image/png": "[encoded data removed]",
      "text/plain": [
       "<Figure size 432x288 with 1 Axes>"
      ]
     },
     "metadata": {
      "needs_background": "light"
     },
     "output_type": "display_data"
    }
   ],
   "source": [
    "# Plot the linear fit\n",
    "plt.plot(x_train, predicted, c = \"b\")\n",
    "\n",
    "# Create a scatter plot of the data. \n",
    "plt.scatter(x_train, y_train, marker='x', c='r') \n",
    "\n",
    "# Set the title\n",
    "plt.title(\"Profits vs. Population per city\")\n",
    "# Set the y-axis label\n",
    "plt.ylabel('Profit in $10,000')\n",
    "# Set the x-axis label\n",
    "plt.xlabel('Population of City in 10,000s')"
   ]
  },
  {
   "cell_type": "code",
   "execution_count": 30,
   "id": "86b8b561",
   "metadata": {},
   "outputs": [
    {
     "name": "stdout",
     "output_type": "stream",
     "text": [
      "For population = 35,000, we predict a profit of $4519.87\n",
      "For population = 70,000, we predict a profit of $45342.55\n"
     ]
    }
   ],
   "source": [
    "predict1 = 3.5 * w + b\n",
    "print('For population = 35,000, we predict a profit of $%.2f' % (predict1*10000))\n",
    "\n",
    "predict2 = 7.0 * w + b\n",
    "print('For population = 70,000, we predict a profit of $%.2f' % (predict2*10000))"
   ]
  }
 ],
 "metadata": {
  "kernelspec": {
   "display_name": "Python 3",
   "language": "python",
   "name": "python3"
  },
  "language_info": {
   "codemirror_mode": {
    "name": "ipython",
    "version": 3
   },
   "file_extension": ".py",
   "mimetype": "text/x-python",
   "name": "python",
   "nbconvert_exporter": "python",
   "pygments_lexer": "ipython3",
   "version": "3.8.8"
  }
 },
 "nbformat": 4,
 "nbformat_minor": 5
}
